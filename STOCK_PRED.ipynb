{
 "cells": [
  {
   "cell_type": "code",
   "execution_count": 1,
   "id": "52d244d5",
   "metadata": {},
   "outputs": [],
   "source": [
    "import pandas as pd"
   ]
  },
  {
   "cell_type": "code",
   "execution_count": 2,
   "id": "d468c25e",
   "metadata": {
    "scrolled": false
   },
   "outputs": [
    {
     "name": "stdout",
     "output_type": "stream",
     "text": [
      "Requirement already satisfied: pandas_datareader in c:\\users\\hp\\anaconda3\\lib\\site-packages (0.10.0)\n",
      "Requirement already satisfied: pandas>=0.23 in c:\\users\\hp\\anaconda3\\lib\\site-packages (from pandas_datareader) (1.2.4)\n",
      "Requirement already satisfied: lxml in c:\\users\\hp\\anaconda3\\lib\\site-packages (from pandas_datareader) (4.6.3)\n",
      "Requirement already satisfied: requests>=2.19.0 in c:\\users\\hp\\anaconda3\\lib\\site-packages (from pandas_datareader) (2.25.1)\n",
      "Requirement already satisfied: pytz>=2017.3 in c:\\users\\hp\\anaconda3\\lib\\site-packages (from pandas>=0.23->pandas_datareader) (2021.1)\n",
      "Requirement already satisfied: python-dateutil>=2.7.3 in c:\\users\\hp\\anaconda3\\lib\\site-packages (from pandas>=0.23->pandas_datareader) (2.8.1)\n",
      "Requirement already satisfied: numpy>=1.16.5 in c:\\users\\hp\\anaconda3\\lib\\site-packages (from pandas>=0.23->pandas_datareader) (1.20.1)\n",
      "Requirement already satisfied: six>=1.5 in c:\\users\\hp\\anaconda3\\lib\\site-packages (from python-dateutil>=2.7.3->pandas>=0.23->pandas_datareader) (1.15.0)\n",
      "Requirement already satisfied: chardet<5,>=3.0.2 in c:\\users\\hp\\anaconda3\\lib\\site-packages (from requests>=2.19.0->pandas_datareader) (4.0.0)\n",
      "Requirement already satisfied: certifi>=2017.4.17 in c:\\users\\hp\\anaconda3\\lib\\site-packages (from requests>=2.19.0->pandas_datareader) (2020.12.5)\n",
      "Requirement already satisfied: idna<3,>=2.5 in c:\\users\\hp\\anaconda3\\lib\\site-packages (from requests>=2.19.0->pandas_datareader) (2.10)\n",
      "Requirement already satisfied: urllib3<1.27,>=1.21.1 in c:\\users\\hp\\anaconda3\\lib\\site-packages (from requests>=2.19.0->pandas_datareader) (1.26.4)\n"
     ]
    }
   ],
   "source": [
    "!pip install pandas_datareader"
   ]
  },
  {
   "cell_type": "code",
   "execution_count": 3,
   "id": "188406a1",
   "metadata": {},
   "outputs": [],
   "source": [
    "import pandas_datareader as pdr\n",
    "import numpy as np"
   ]
  },
  {
   "cell_type": "code",
   "execution_count": 4,
   "id": "9ea3fe9c",
   "metadata": {},
   "outputs": [],
   "source": [
    "df = pd.read_csv(r\"C:\\Users\\hp\\Desktop\\Untitled Folder\\AAPL_data.csv\")"
   ]
  },
  {
   "cell_type": "code",
   "execution_count": 5,
   "id": "57307495",
   "metadata": {},
   "outputs": [
    {
     "data": {
      "text/plain": [
       "<bound method NDFrame.head of             date      open      high       low     close     volume  Name\n",
       "0     2013-02-08   67.7142   68.4014   66.8928   67.8542  158168416  AAPL\n",
       "1     2013-02-11   68.0714   69.2771   67.6071   68.5614  129029425  AAPL\n",
       "2     2013-02-12   68.5014   68.9114   66.8205   66.8428  151829363  AAPL\n",
       "3     2013-02-13   66.7442   67.6628   66.1742   66.7156  118721995  AAPL\n",
       "4     2013-02-14   66.3599   67.3771   66.2885   66.6556   88809154  AAPL\n",
       "...          ...       ...       ...       ...       ...        ...   ...\n",
       "1254  2018-02-01  167.1650  168.6200  166.7600  167.7800   47230787  AAPL\n",
       "1255  2018-02-02  166.0000  166.8000  160.1000  160.5000   86593825  AAPL\n",
       "1256  2018-02-05  159.1000  163.8800  156.0000  156.4900   72738522  AAPL\n",
       "1257  2018-02-06  154.8300  163.7200  154.0000  163.0300   68243838  AAPL\n",
       "1258  2018-02-07  163.0850  163.4000  159.0685  159.5400   51608580  AAPL\n",
       "\n",
       "[1259 rows x 7 columns]>"
      ]
     },
     "execution_count": 5,
     "metadata": {},
     "output_type": "execute_result"
    }
   ],
   "source": [
    "df.head"
   ]
  },
  {
   "cell_type": "code",
   "execution_count": 6,
   "id": "369203fb",
   "metadata": {},
   "outputs": [],
   "source": [
    "df2=df.reset_index()[\"close\"]"
   ]
  },
  {
   "cell_type": "code",
   "execution_count": 7,
   "id": "6b8cbaae",
   "metadata": {},
   "outputs": [
    {
     "data": {
      "text/plain": [
       "0        67.8542\n",
       "1        68.5614\n",
       "2        66.8428\n",
       "3        66.7156\n",
       "4        66.6556\n",
       "          ...   \n",
       "1254    167.7800\n",
       "1255    160.5000\n",
       "1256    156.4900\n",
       "1257    163.0300\n",
       "1258    159.5400\n",
       "Name: close, Length: 1259, dtype: float64"
      ]
     },
     "execution_count": 7,
     "metadata": {},
     "output_type": "execute_result"
    }
   ],
   "source": [
    "df2"
   ]
  },
  {
   "cell_type": "code",
   "execution_count": 8,
   "id": "fce2367b",
   "metadata": {
    "scrolled": true
   },
   "outputs": [
    {
     "data": {
      "text/plain": [
       "[<matplotlib.lines.Line2D at 0x1fcea3a9100>]"
      ]
     },
     "execution_count": 8,
     "metadata": {},
     "output_type": "execute_result"
    },
    {
     "data": {
      "image/png": "[encoded data removed]",
      "text/plain": [
       "<Figure size 432x288 with 1 Axes>"
      ]
     },
     "metadata": {
      "needs_background": "light"
     },
     "output_type": "display_data"
    }
   ],
   "source": [
    "import matplotlib.pyplot as plt\n",
    "plt.plot(df2)"
   ]
  },
  {
   "cell_type": "code",
   "execution_count": 9,
   "id": "3aaeb60b",
   "metadata": {},
   "outputs": [],
   "source": [
    "from sklearn.preprocessing import MinMaxScaler"
   ]
  },
  {
   "cell_type": "code",
   "execution_count": 10,
   "id": "b011f836",
   "metadata": {},
   "outputs": [],
   "source": [
    "scaler = MinMaxScaler(feature_range=(0,1))\n",
    "df2=scaler.fit_transform(np.array(df2).reshape(-1,1))"
   ]
  },
  {
   "cell_type": "code",
   "execution_count": 11,
   "id": "405f4478",
   "metadata": {},
   "outputs": [
    {
     "data": {
      "text/plain": [
       "(1259, 7)"
      ]
     },
     "execution_count": 11,
     "metadata": {},
     "output_type": "execute_result"
    }
   ],
   "source": [
    "df.shape"
   ]
  },
  {
   "cell_type": "code",
   "execution_count": 12,
   "id": "a4053dc4",
   "metadata": {},
   "outputs": [
    {
     "data": {
      "text/plain": [
       "array([[0.0977103 ],\n",
       "       [0.103438  ],\n",
       "       [0.08951884],\n",
       "       ...,\n",
       "       [0.81558288],\n",
       "       [0.86855117],\n",
       "       [0.84028522]])"
      ]
     },
     "execution_count": 12,
     "metadata": {},
     "output_type": "execute_result"
    }
   ],
   "source": [
    "df2"
   ]
  },
  {
   "cell_type": "code",
   "execution_count": 13,
   "id": "137a0ace",
   "metadata": {},
   "outputs": [],
   "source": [
    "#lets split the data into train and test\n",
    "training_size = int(len(df2)*0.65)\n",
    "test_size = len(df2)-training_size\n",
    "train_data,test_data= df2[0:training_size,:],df2[training_size:len(df2),:1]"
   ]
  },
  {
   "cell_type": "code",
   "execution_count": 14,
   "id": "fd96ae61",
   "metadata": {},
   "outputs": [
    {
     "data": {
      "text/plain": [
       "(818, 441)"
      ]
     },
     "execution_count": 14,
     "metadata": {},
     "output_type": "execute_result"
    }
   ],
   "source": [
    "training_size,test_size"
   ]
  },
  {
   "cell_type": "code",
   "execution_count": 15,
   "id": "45979e05",
   "metadata": {},
   "outputs": [],
   "source": [
    "# converting an array of values into a dataset matrix\n",
    "import numpy\n",
    "def create_dataset(dataset, time_step=1):\n",
    "    dataX, dataY = [], []\n",
    "    for i in range(len(dataset)-time_step-1):\n",
    "        a = dataset[i:(i+time_step), 0]   \n",
    "        dataX.append(a)\n",
    "        dataY.append(dataset[i + time_step, 0])\n",
    "    return numpy.array(dataX), numpy.array(dataY)"
   ]
  },
  {
   "cell_type": "code",
   "execution_count": 16,
   "id": "5a8568d9",
   "metadata": {},
   "outputs": [
    {
     "name": "stdout",
     "output_type": "stream",
     "text": [
      "(717, 100)\n",
      "(717,)\n"
     ]
    },
    {
     "data": {
      "text/plain": [
       "(None, None)"
      ]
     },
     "execution_count": 16,
     "metadata": {},
     "output_type": "execute_result"
    }
   ],
   "source": [
    "time_step = 100\n",
    "X_train, y_train = create_dataset(train_data, time_step)\n",
    "X_test, ytest = create_dataset(test_data, time_step)\n",
    "print(X_train.shape), print(y_train.shape)"
   ]
  },
  {
   "cell_type": "code",
   "execution_count": 17,
   "id": "60070d48",
   "metadata": {},
   "outputs": [
    {
     "name": "stdout",
     "output_type": "stream",
     "text": [
      "(340, 100)\n",
      "(340,)\n"
     ]
    },
    {
     "data": {
      "text/plain": [
       "(None, None)"
      ]
     },
     "execution_count": 17,
     "metadata": {},
     "output_type": "execute_result"
    }
   ],
   "source": [
    "print(X_test.shape), print(ytest.shape)"
   ]
  },
  {
   "cell_type": "code",
   "execution_count": 18,
   "id": "a19b02e0",
   "metadata": {},
   "outputs": [],
   "source": [
    "X_train =X_train.reshape(X_train.shape[0],X_train.shape[1] , 1)\n",
    "X_test = X_test.reshape(X_test.shape[0],X_test.shape[1] , 1)"
   ]
  },
  {
   "cell_type": "code",
   "execution_count": 19,
   "id": "2fc2a6d6",
   "metadata": {},
   "outputs": [],
   "source": [
    "### Create the Stacked LSTM model\n",
    "from tensorflow.keras.models import Sequential\n",
    "from tensorflow.keras.layers import Dense\n",
    "from tensorflow.keras.layers import LSTM"
   ]
  },
  {
   "cell_type": "code",
   "execution_count": 20,
   "id": "35f28536",
   "metadata": {},
   "outputs": [],
   "source": [
    "model=Sequential()\n",
    "model.add(LSTM(50,return_sequences=True,input_shape=(100,1)))\n",
    "model.add(LSTM(50,return_sequences=True))\n",
    "model.add(LSTM(50))\n",
    "model.add(Dense(1))\n",
    "model.compile(loss='mean_squared_error',optimizer='adam')"
   ]
  },
  {
   "cell_type": "code",
   "execution_count": 21,
   "id": "18e043a3",
   "metadata": {},
   "outputs": [
    {
     "name": "stdout",
     "output_type": "stream",
     "text": [
      "Model: \"sequential\"\n",
      "_________________________________________________________________\n",
      " Layer (type)                Output Shape              Param #   \n",
      "=================================================================\n",
      " lstm (LSTM)                 (None, 100, 50)           10400     \n",
      "                                                                 \n",
      " lstm_1 (LSTM)               (None, 100, 50)           20200     \n",
      "                                                                 \n",
      " lstm_2 (LSTM)               (None, 50)                20200     \n",
      "                                                                 \n",
      " dense (Dense)               (None, 1)                 51        \n",
      "                                                                 \n",
      "=================================================================\n",
      "Total params: 50,851\n",
      "Trainable params: 50,851\n",
      "Non-trainable params: 0\n",
      "_________________________________________________________________\n"
     ]
    }
   ],
   "source": [
    "model.summary()"
   ]
  },
  {
   "cell_type": "code",
   "execution_count": 22,
   "id": "c8ee2d14",
   "metadata": {},
   "outputs": [
    {
     "name": "stdout",
     "output_type": "stream",
     "text": [
      "Epoch 1/100\n",
      "12/12 [==============================] - 30s 463ms/step - loss: 0.0427 - val_loss: 0.0558\n",
      "Epoch 2/100\n",
      "12/12 [==============================] - 3s 251ms/step - loss: 0.0074 - val_loss: 0.0048\n",
      "Epoch 3/100\n",
      "12/12 [==============================] - 3s 263ms/step - loss: 0.0035 - val_loss: 0.0127\n",
      "Epoch 4/100\n",
      "12/12 [==============================] - 3s 253ms/step - loss: 0.0020 - val_loss: 0.0106\n",
      "Epoch 5/100\n",
      "12/12 [==============================] - 3s 237ms/step - loss: 0.0015 - val_loss: 0.0046\n",
      "Epoch 6/100\n",
      "12/12 [==============================] - 3s 242ms/step - loss: 0.0014 - val_loss: 0.0023\n",
      "Epoch 7/100\n",
      "12/12 [==============================] - 3s 239ms/step - loss: 0.0013 - val_loss: 0.0025\n",
      "Epoch 8/100\n",
      "12/12 [==============================] - 3s 240ms/step - loss: 0.0014 - val_loss: 0.0047\n",
      "Epoch 9/100\n",
      "12/12 [==============================] - 3s 252ms/step - loss: 0.0013 - val_loss: 0.0044\n",
      "Epoch 10/100\n",
      "12/12 [==============================] - 3s 240ms/step - loss: 0.0012 - val_loss: 0.0030\n",
      "Epoch 11/100\n",
      "12/12 [==============================] - 3s 241ms/step - loss: 0.0012 - val_loss: 0.0039\n",
      "Epoch 12/100\n",
      "12/12 [==============================] - 3s 237ms/step - loss: 0.0012 - val_loss: 0.0026\n",
      "Epoch 13/100\n",
      "12/12 [==============================] - 3s 240ms/step - loss: 0.0012 - val_loss: 0.0025\n",
      "Epoch 14/100\n",
      "12/12 [==============================] - 3s 246ms/step - loss: 0.0012 - val_loss: 0.0026\n",
      "Epoch 15/100\n",
      "12/12 [==============================] - 3s 236ms/step - loss: 0.0011 - val_loss: 0.0023\n",
      "Epoch 16/100\n",
      "12/12 [==============================] - 3s 239ms/step - loss: 0.0011 - val_loss: 0.0031\n",
      "Epoch 17/100\n",
      "12/12 [==============================] - 3s 237ms/step - loss: 0.0011 - val_loss: 0.0041\n",
      "Epoch 18/100\n",
      "12/12 [==============================] - 3s 242ms/step - loss: 0.0011 - val_loss: 0.0032\n",
      "Epoch 19/100\n",
      "12/12 [==============================] - 3s 246ms/step - loss: 0.0011 - val_loss: 0.0028\n",
      "Epoch 20/100\n",
      "12/12 [==============================] - 3s 255ms/step - loss: 0.0010 - val_loss: 0.0027\n",
      "Epoch 21/100\n",
      "12/12 [==============================] - 3s 242ms/step - loss: 9.7665e-04 - val_loss: 0.0022\n",
      "Epoch 22/100\n",
      "12/12 [==============================] - 3s 252ms/step - loss: 9.6788e-04 - val_loss: 0.0032\n",
      "Epoch 23/100\n",
      "12/12 [==============================] - 3s 261ms/step - loss: 9.7661e-04 - val_loss: 0.0019\n",
      "Epoch 24/100\n",
      "12/12 [==============================] - 3s 266ms/step - loss: 0.0010 - val_loss: 0.0040\n",
      "Epoch 25/100\n",
      "12/12 [==============================] - 3s 252ms/step - loss: 0.0011 - val_loss: 0.0054\n",
      "Epoch 26/100\n",
      "12/12 [==============================] - 3s 251ms/step - loss: 9.7677e-04 - val_loss: 0.0015\n",
      "Epoch 27/100\n",
      "12/12 [==============================] - 3s 252ms/step - loss: 8.8213e-04 - val_loss: 0.0063\n",
      "Epoch 28/100\n",
      "12/12 [==============================] - 3s 257ms/step - loss: 0.0010 - val_loss: 0.0019\n",
      "Epoch 29/100\n",
      "12/12 [==============================] - 3s 252ms/step - loss: 9.2592e-04 - val_loss: 0.0033\n",
      "Epoch 30/100\n",
      "12/12 [==============================] - 3s 278ms/step - loss: 8.2296e-04 - val_loss: 0.0027\n",
      "Epoch 31/100\n",
      "12/12 [==============================] - 3s 282ms/step - loss: 8.1438e-04 - val_loss: 0.0031\n",
      "Epoch 32/100\n",
      "12/12 [==============================] - 3s 244ms/step - loss: 7.8608e-04 - val_loss: 0.0042\n",
      "Epoch 33/100\n",
      "12/12 [==============================] - 3s 245ms/step - loss: 8.0877e-04 - val_loss: 0.0030\n",
      "Epoch 34/100\n",
      "12/12 [==============================] - 3s 261ms/step - loss: 7.9552e-04 - val_loss: 0.0013\n",
      "Epoch 35/100\n",
      "12/12 [==============================] - 3s 216ms/step - loss: 8.9732e-04 - val_loss: 0.0059\n",
      "Epoch 36/100\n",
      "12/12 [==============================] - 3s 229ms/step - loss: 7.8582e-04 - val_loss: 0.0016\n",
      "Epoch 37/100\n",
      "12/12 [==============================] - 3s 224ms/step - loss: 7.4947e-04 - val_loss: 0.0052\n",
      "Epoch 38/100\n",
      "12/12 [==============================] - 2s 202ms/step - loss: 7.8442e-04 - val_loss: 0.0020\n",
      "Epoch 39/100\n",
      "12/12 [==============================] - 2s 208ms/step - loss: 7.2167e-04 - val_loss: 0.0027\n",
      "Epoch 40/100\n",
      "12/12 [==============================] - 2s 210ms/step - loss: 7.2534e-04 - val_loss: 0.0024\n",
      "Epoch 41/100\n",
      "12/12 [==============================] - 3s 212ms/step - loss: 7.3448e-04 - val_loss: 0.0028\n",
      "Epoch 42/100\n",
      "12/12 [==============================] - 3s 224ms/step - loss: 7.0229e-04 - val_loss: 0.0028\n",
      "Epoch 43/100\n",
      "12/12 [==============================] - 2s 201ms/step - loss: 7.6169e-04 - val_loss: 0.0028\n",
      "Epoch 44/100\n",
      "12/12 [==============================] - 3s 212ms/step - loss: 7.1072e-04 - val_loss: 0.0024\n",
      "Epoch 45/100\n",
      "12/12 [==============================] - 2s 199ms/step - loss: 7.0569e-04 - val_loss: 0.0016\n",
      "Epoch 46/100\n",
      "12/12 [==============================] - 2s 204ms/step - loss: 7.5866e-04 - val_loss: 0.0026\n",
      "Epoch 47/100\n",
      "12/12 [==============================] - 2s 207ms/step - loss: 6.7575e-04 - val_loss: 0.0015\n",
      "Epoch 48/100\n",
      "12/12 [==============================] - 2s 205ms/step - loss: 6.9837e-04 - val_loss: 0.0022\n",
      "Epoch 49/100\n",
      "12/12 [==============================] - 3s 216ms/step - loss: 6.4168e-04 - val_loss: 0.0013\n",
      "Epoch 50/100\n",
      "12/12 [==============================] - 2s 205ms/step - loss: 6.4000e-04 - val_loss: 0.0042\n",
      "Epoch 51/100\n",
      "12/12 [==============================] - 2s 204ms/step - loss: 8.3667e-04 - val_loss: 0.0011\n",
      "Epoch 52/100\n",
      "12/12 [==============================] - 3s 213ms/step - loss: 6.4200e-04 - val_loss: 0.0054\n",
      "Epoch 53/100\n",
      "12/12 [==============================] - 3s 217ms/step - loss: 7.4340e-04 - val_loss: 0.0013\n",
      "Epoch 54/100\n",
      "12/12 [==============================] - 2s 210ms/step - loss: 6.3283e-04 - val_loss: 0.0017\n",
      "Epoch 55/100\n",
      "12/12 [==============================] - 3s 225ms/step - loss: 6.3931e-04 - val_loss: 0.0014\n",
      "Epoch 56/100\n",
      "12/12 [==============================] - 3s 253ms/step - loss: 6.4166e-04 - val_loss: 0.0013\n",
      "Epoch 57/100\n",
      "12/12 [==============================] - 3s 245ms/step - loss: 6.2991e-04 - val_loss: 0.0027\n",
      "Epoch 58/100\n",
      "12/12 [==============================] - 3s 248ms/step - loss: 6.1198e-04 - val_loss: 0.0014\n",
      "Epoch 59/100\n",
      "12/12 [==============================] - 3s 252ms/step - loss: 6.6360e-04 - val_loss: 0.0015\n",
      "Epoch 60/100\n",
      "12/12 [==============================] - 3s 249ms/step - loss: 5.9901e-04 - val_loss: 0.0022\n",
      "Epoch 61/100\n",
      "12/12 [==============================] - 3s 252ms/step - loss: 5.9428e-04 - val_loss: 9.5535e-04\n",
      "Epoch 62/100\n",
      "12/12 [==============================] - 3s 239ms/step - loss: 6.1475e-04 - val_loss: 0.0020\n",
      "Epoch 63/100\n",
      "12/12 [==============================] - 3s 239ms/step - loss: 5.8649e-04 - val_loss: 0.0020\n",
      "Epoch 64/100\n",
      "12/12 [==============================] - 3s 236ms/step - loss: 5.8447e-04 - val_loss: 0.0014\n",
      "Epoch 65/100\n",
      "12/12 [==============================] - 3s 245ms/step - loss: 5.8174e-04 - val_loss: 0.0013\n",
      "Epoch 66/100\n",
      "12/12 [==============================] - 3s 248ms/step - loss: 5.7608e-04 - val_loss: 0.0022\n",
      "Epoch 67/100\n",
      "12/12 [==============================] - 3s 238ms/step - loss: 6.7440e-04 - val_loss: 0.0055\n",
      "Epoch 68/100\n",
      "12/12 [==============================] - 3s 248ms/step - loss: 6.9157e-04 - val_loss: 0.0021\n",
      "Epoch 69/100\n",
      "12/12 [==============================] - 3s 241ms/step - loss: 6.4901e-04 - val_loss: 7.8301e-04\n",
      "Epoch 70/100\n",
      "12/12 [==============================] - 3s 237ms/step - loss: 6.0322e-04 - val_loss: 9.8244e-04\n",
      "Epoch 71/100\n",
      "12/12 [==============================] - 3s 239ms/step - loss: 5.6397e-04 - val_loss: 0.0023\n",
      "Epoch 72/100\n",
      "12/12 [==============================] - 3s 250ms/step - loss: 5.5574e-04 - val_loss: 0.0017\n",
      "Epoch 73/100\n",
      "12/12 [==============================] - 3s 239ms/step - loss: 5.5656e-04 - val_loss: 9.6552e-04\n",
      "Epoch 74/100\n",
      "12/12 [==============================] - 3s 239ms/step - loss: 5.9065e-04 - val_loss: 6.2092e-04\n",
      "Epoch 75/100\n",
      "12/12 [==============================] - 3s 246ms/step - loss: 5.6792e-04 - val_loss: 0.0010\n",
      "Epoch 76/100\n",
      "12/12 [==============================] - 3s 250ms/step - loss: 5.3962e-04 - val_loss: 0.0024\n",
      "Epoch 77/100\n",
      "12/12 [==============================] - 3s 245ms/step - loss: 5.7385e-04 - val_loss: 7.7966e-04\n",
      "Epoch 78/100\n",
      "12/12 [==============================] - 3s 257ms/step - loss: 5.7701e-04 - val_loss: 6.5986e-04\n",
      "Epoch 79/100\n",
      "12/12 [==============================] - 3s 245ms/step - loss: 5.3020e-04 - val_loss: 0.0013\n",
      "Epoch 80/100\n",
      "12/12 [==============================] - 3s 244ms/step - loss: 5.3075e-04 - val_loss: 0.0013\n",
      "Epoch 81/100\n",
      "12/12 [==============================] - 3s 239ms/step - loss: 5.3846e-04 - val_loss: 0.0021\n",
      "Epoch 82/100\n",
      "12/12 [==============================] - 3s 244ms/step - loss: 5.3333e-04 - val_loss: 0.0026\n",
      "Epoch 83/100\n",
      "12/12 [==============================] - 3s 257ms/step - loss: 5.8573e-04 - val_loss: 6.8453e-04\n",
      "Epoch 84/100\n",
      "12/12 [==============================] - 3s 236ms/step - loss: 5.9757e-04 - val_loss: 8.4274e-04\n",
      "Epoch 85/100\n",
      "12/12 [==============================] - 3s 243ms/step - loss: 5.0940e-04 - val_loss: 0.0012\n",
      "Epoch 86/100\n",
      "12/12 [==============================] - 3s 247ms/step - loss: 4.9212e-04 - val_loss: 0.0011\n",
      "Epoch 87/100\n",
      "12/12 [==============================] - 3s 240ms/step - loss: 4.8176e-04 - val_loss: 5.6637e-04\n",
      "Epoch 88/100\n",
      "12/12 [==============================] - 3s 251ms/step - loss: 4.9069e-04 - val_loss: 0.0024\n",
      "Epoch 89/100\n",
      "12/12 [==============================] - 3s 248ms/step - loss: 6.1907e-04 - val_loss: 0.0011\n",
      "Epoch 90/100\n",
      "12/12 [==============================] - 3s 242ms/step - loss: 5.1750e-04 - val_loss: 6.0290e-04\n",
      "Epoch 91/100\n",
      "12/12 [==============================] - 3s 242ms/step - loss: 5.6843e-04 - val_loss: 0.0048\n",
      "Epoch 92/100\n",
      "12/12 [==============================] - 3s 239ms/step - loss: 6.6094e-04 - val_loss: 0.0014\n",
      "Epoch 93/100\n",
      "12/12 [==============================] - 3s 247ms/step - loss: 5.0419e-04 - val_loss: 5.5629e-04\n",
      "Epoch 94/100\n",
      "12/12 [==============================] - 3s 260ms/step - loss: 5.0335e-04 - val_loss: 8.7860e-04\n",
      "Epoch 95/100\n",
      "12/12 [==============================] - 3s 249ms/step - loss: 4.7738e-04 - val_loss: 0.0019\n",
      "Epoch 96/100\n",
      "12/12 [==============================] - 3s 244ms/step - loss: 5.2874e-04 - val_loss: 5.1267e-04\n",
      "Epoch 97/100\n",
      "12/12 [==============================] - 3s 248ms/step - loss: 4.9798e-04 - val_loss: 9.2158e-04\n",
      "Epoch 98/100\n",
      "12/12 [==============================] - 3s 250ms/step - loss: 4.7022e-04 - val_loss: 8.5403e-04\n",
      "Epoch 99/100\n",
      "12/12 [==============================] - 3s 266ms/step - loss: 4.5296e-04 - val_loss: 0.0012\n",
      "Epoch 100/100\n",
      "12/12 [==============================] - 3s 244ms/step - loss: 4.5106e-04 - val_loss: 4.7737e-04\n"
     ]
    },
    {
     "data": {
      "text/plain": [
       "<keras.callbacks.History at 0x1fcf46b7250>"
      ]
     },
     "execution_count": 22,
     "metadata": {},
     "output_type": "execute_result"
    }
   ],
   "source": [
    "model.fit(X_train,y_train,validation_data=(X_test,ytest),epochs=100,batch_size=64,verbose=1)"
   ]
  },
  {
   "cell_type": "code",
   "execution_count": 23,
   "id": "890e9022",
   "metadata": {},
   "outputs": [],
   "source": [
    "import tensorflow as tf"
   ]
  },
  {
   "cell_type": "code",
   "execution_count": 24,
   "id": "7c829d2e",
   "metadata": {},
   "outputs": [],
   "source": [
    "train_predict=model.predict(X_train)\n",
    "test_predict=model.predict(X_test)"
   ]
  },
  {
   "cell_type": "code",
   "execution_count": 25,
   "id": "78aafa65",
   "metadata": {},
   "outputs": [],
   "source": [
    "train_predict=scaler.inverse_transform(train_predict)\n",
    "test_predict=scaler.inverse_transform(test_predict)"
   ]
  },
  {
   "cell_type": "code",
   "execution_count": 26,
   "id": "e97198fb",
   "metadata": {},
   "outputs": [
    {
     "data": {
      "text/plain": [
       "102.29490390585865"
      ]
     },
     "execution_count": 26,
     "metadata": {},
     "output_type": "execute_result"
    }
   ],
   "source": [
    "import math\n",
    "from sklearn.metrics import mean_squared_error\n",
    "math.sqrt(mean_squared_error(y_train,train_predict))"
   ]
  },
  {
   "cell_type": "code",
   "execution_count": 27,
   "id": "2b9eba0e",
   "metadata": {},
   "outputs": [
    {
     "data": {
      "text/plain": [
       "145.5714271610192"
      ]
     },
     "execution_count": 27,
     "metadata": {},
     "output_type": "execute_result"
    }
   ],
   "source": [
    "math.sqrt(mean_squared_error(ytest,test_predict))"
   ]
  },
  {
   "cell_type": "code",
   "execution_count": 28,
   "id": "d17c5a5d",
   "metadata": {},
   "outputs": [
    {
     "data": {
      "image/png": "[encoded data removed]",
      "text/plain": [
       "<Figure size 432x288 with 1 Axes>"
      ]
     },
     "metadata": {
      "needs_background": "light"
     },
     "output_type": "display_data"
    }
   ],
   "source": [
    "#shifting train predictions for plotting\n",
    "look_back=100\n",
    "trainPredictPlot = numpy.empty_like(df2)\n",
    "trainPredictPlot[:,:]= np.nan\n",
    "trainPredictPlot[look_back:len(train_predict)+look_back,:] = train_predict\n",
    "#shifting test predictions for plotting\n",
    "testPredictPlot = numpy.empty_like(df2)\n",
    "testPredictPlot[:, :]= np.nan\n",
    "testPredictPlot[len(train_predict)+(look_back*2)+1:len(df2)-1, :] = test_predict\n",
    "plt.plot(scaler.inverse_transform(df2))\n",
    "plt.plot(trainPredictPlot)\n",
    "plt.plot(testPredictPlot)\n",
    "plt.show()\n"
   ]
  },
  {
   "cell_type": "code",
   "execution_count": 29,
   "id": "d2e6a43b",
   "metadata": {},
   "outputs": [
    {
     "data": {
      "text/plain": [
       "441"
      ]
     },
     "execution_count": 29,
     "metadata": {},
     "output_type": "execute_result"
    }
   ],
   "source": [
    "len(test_data)"
   ]
  },
  {
   "cell_type": "code",
   "execution_count": 30,
   "id": "5ada2a8c",
   "metadata": {},
   "outputs": [],
   "source": [
    "x_input = test_data[341: ].reshape(1,-1)"
   ]
  },
  {
   "cell_type": "code",
   "execution_count": 31,
   "id": "d1315140",
   "metadata": {},
   "outputs": [
    {
     "data": {
      "text/plain": [
       "(1, 100)"
      ]
     },
     "execution_count": 31,
     "metadata": {},
     "output_type": "execute_result"
    }
   ],
   "source": [
    "x_input.shape"
   ]
  },
  {
   "cell_type": "code",
   "execution_count": 50,
   "id": "d8bcd34d",
   "metadata": {},
   "outputs": [],
   "source": [
    "temp_input=list(x_input)\n",
    "temp_input=temp_input[0].tolist()"
   ]
  },
  {
   "cell_type": "code",
   "execution_count": 51,
   "id": "99b6d99f",
   "metadata": {},
   "outputs": [
    {
     "name": "stdout",
     "output_type": "stream",
     "text": [
      "[0.83227277]\n",
      "101\n",
      "1 day input [0.83323898 0.83372493 0.81218125 0.79047559 0.7783269  0.76747407\n",
      " 0.78845081 0.79727886 0.78958468 0.79638795 0.79387722 0.79930364\n",
      " 0.79120451 0.80667384 0.80594492 0.81031845 0.8108044  0.81606883\n",
      " 0.81161431 0.81963245 0.84303892 0.84781741 0.84206703 0.81145233\n",
      " 0.81363909 0.81299116 0.82052335 0.81493495 0.82303408 0.86871315\n",
      " 0.89843695 0.91722692 0.8998138  0.90969474 0.9452499  0.95942337\n",
      " 0.96395889 0.97554064 0.97262495 0.96282501 0.95715562 0.93585492\n",
      " 0.91755089 0.93391113 0.92621695 0.9248401  0.95043334 0.96517375\n",
      " 0.96525475 0.95812751 0.9498664  0.92079054 0.93998547 0.93350617\n",
      " 0.92338226 0.9220864  0.91698395 0.91949468 0.91989964 0.94662675\n",
      " 0.9387706  0.9433871  0.94298215 0.95715562 0.97699848 0.96177212\n",
      " 0.96023329 0.96557871 0.96557871 0.92961859 0.92986156 0.93374914\n",
      " 0.91876576 0.94330611 0.94306314 0.94954244 0.96549772 0.96023329\n",
      " 0.9600713  0.95974734 0.96776548 0.98242489 0.97513568 0.99870414\n",
      " 1.         0.9935207  0.98169597 0.98201994 0.9591804  0.93399212\n",
      " 0.93723177 0.90847987 0.90046173 0.90418733 0.90702202 0.84806038\n",
      " 0.81558288 0.86855117 0.84028522 0.83227277]\n",
      "1 day output [[0.826955]]\n",
      "2 day input [0.83372493 0.81218125 0.79047559 0.7783269  0.76747407 0.78845081\n",
      " 0.79727886 0.78958468 0.79638795 0.79387722 0.79930364 0.79120451\n",
      " 0.80667384 0.80594492 0.81031845 0.8108044  0.81606883 0.81161431\n",
      " 0.81963245 0.84303892 0.84781741 0.84206703 0.81145233 0.81363909\n",
      " 0.81299116 0.82052335 0.81493495 0.82303408 0.86871315 0.89843695\n",
      " 0.91722692 0.8998138  0.90969474 0.9452499  0.95942337 0.96395889\n",
      " 0.97554064 0.97262495 0.96282501 0.95715562 0.93585492 0.91755089\n",
      " 0.93391113 0.92621695 0.9248401  0.95043334 0.96517375 0.96525475\n",
      " 0.95812751 0.9498664  0.92079054 0.93998547 0.93350617 0.92338226\n",
      " 0.9220864  0.91698395 0.91949468 0.91989964 0.94662675 0.9387706\n",
      " 0.9433871  0.94298215 0.95715562 0.97699848 0.96177212 0.96023329\n",
      " 0.96557871 0.96557871 0.92961859 0.92986156 0.93374914 0.91876576\n",
      " 0.94330611 0.94306314 0.94954244 0.96549772 0.96023329 0.9600713\n",
      " 0.95974734 0.96776548 0.98242489 0.97513568 0.99870414 1.\n",
      " 0.9935207  0.98169597 0.98201994 0.9591804  0.93399212 0.93723177\n",
      " 0.90847987 0.90046173 0.90418733 0.90702202 0.84806038 0.81558288\n",
      " 0.86855117 0.84028522 0.83227277 0.82695502]\n",
      "2 day output [[0.8232421]]\n",
      "3 day input [0.81218125 0.79047559 0.7783269  0.76747407 0.78845081 0.79727886\n",
      " 0.78958468 0.79638795 0.79387722 0.79930364 0.79120451 0.80667384\n",
      " 0.80594492 0.81031845 0.8108044  0.81606883 0.81161431 0.81963245\n",
      " 0.84303892 0.84781741 0.84206703 0.81145233 0.81363909 0.81299116\n",
      " 0.82052335 0.81493495 0.82303408 0.86871315 0.89843695 0.91722692\n",
      " 0.8998138  0.90969474 0.9452499  0.95942337 0.96395889 0.97554064\n",
      " 0.97262495 0.96282501 0.95715562 0.93585492 0.91755089 0.93391113\n",
      " 0.92621695 0.9248401  0.95043334 0.96517375 0.96525475 0.95812751\n",
      " 0.9498664  0.92079054 0.93998547 0.93350617 0.92338226 0.9220864\n",
      " 0.91698395 0.91949468 0.91989964 0.94662675 0.9387706  0.9433871\n",
      " 0.94298215 0.95715562 0.97699848 0.96177212 0.96023329 0.96557871\n",
      " 0.96557871 0.92961859 0.92986156 0.93374914 0.91876576 0.94330611\n",
      " 0.94306314 0.94954244 0.96549772 0.96023329 0.9600713  0.95974734\n",
      " 0.96776548 0.98242489 0.97513568 0.99870414 1.         0.9935207\n",
      " 0.98169597 0.98201994 0.9591804  0.93399212 0.93723177 0.90847987\n",
      " 0.90046173 0.90418733 0.90702202 0.84806038 0.81558288 0.86855117\n",
      " 0.84028522 0.83227277 0.82695502 0.82324213]\n",
      "3 day output [[0.8207005]]\n",
      "4 day input [0.79047559 0.7783269  0.76747407 0.78845081 0.79727886 0.78958468\n",
      " 0.79638795 0.79387722 0.79930364 0.79120451 0.80667384 0.80594492\n",
      " 0.81031845 0.8108044  0.81606883 0.81161431 0.81963245 0.84303892\n",
      " 0.84781741 0.84206703 0.81145233 0.81363909 0.81299116 0.82052335\n",
      " 0.81493495 0.82303408 0.86871315 0.89843695 0.91722692 0.8998138\n",
      " 0.90969474 0.9452499  0.95942337 0.96395889 0.97554064 0.97262495\n",
      " 0.96282501 0.95715562 0.93585492 0.91755089 0.93391113 0.92621695\n",
      " 0.9248401  0.95043334 0.96517375 0.96525475 0.95812751 0.9498664\n",
      " 0.92079054 0.93998547 0.93350617 0.92338226 0.9220864  0.91698395\n",
      " 0.91949468 0.91989964 0.94662675 0.9387706  0.9433871  0.94298215\n",
      " 0.95715562 0.97699848 0.96177212 0.96023329 0.96557871 0.96557871\n",
      " 0.92961859 0.92986156 0.93374914 0.91876576 0.94330611 0.94306314\n",
      " 0.94954244 0.96549772 0.96023329 0.9600713  0.95974734 0.96776548\n",
      " 0.98242489 0.97513568 0.99870414 1.         0.9935207  0.98169597\n",
      " 0.98201994 0.9591804  0.93399212 0.93723177 0.90847987 0.90046173\n",
      " 0.90418733 0.90702202 0.84806038 0.81558288 0.86855117 0.84028522\n",
      " 0.83227277 0.82695502 0.82324213 0.82070053]\n",
      "4 day output [[0.8190786]]\n",
      "5 day input [0.7783269  0.76747407 0.78845081 0.79727886 0.78958468 0.79638795\n",
      " 0.79387722 0.79930364 0.79120451 0.80667384 0.80594492 0.81031845\n",
      " 0.8108044  0.81606883 0.81161431 0.81963245 0.84303892 0.84781741\n",
      " 0.84206703 0.81145233 0.81363909 0.81299116 0.82052335 0.81493495\n",
      " 0.82303408 0.86871315 0.89843695 0.91722692 0.8998138  0.90969474\n",
      " 0.9452499  0.95942337 0.96395889 0.97554064 0.97262495 0.96282501\n",
      " 0.95715562 0.93585492 0.91755089 0.93391113 0.92621695 0.9248401\n",
      " 0.95043334 0.96517375 0.96525475 0.95812751 0.9498664  0.92079054\n",
      " 0.93998547 0.93350617 0.92338226 0.9220864  0.91698395 0.91949468\n",
      " 0.91989964 0.94662675 0.9387706  0.9433871  0.94298215 0.95715562\n",
      " 0.97699848 0.96177212 0.96023329 0.96557871 0.96557871 0.92961859\n",
      " 0.92986156 0.93374914 0.91876576 0.94330611 0.94306314 0.94954244\n",
      " 0.96549772 0.96023329 0.9600713  0.95974734 0.96776548 0.98242489\n",
      " 0.97513568 0.99870414 1.         0.9935207  0.98169597 0.98201994\n",
      " 0.9591804  0.93399212 0.93723177 0.90847987 0.90046173 0.90418733\n",
      " 0.90702202 0.84806038 0.81558288 0.86855117 0.84028522 0.83227277\n",
      " 0.82695502 0.82324213 0.82070053 0.81907862]\n",
      "5 day output [[0.818208]]\n",
      "6 day input [0.76747407 0.78845081 0.79727886 0.78958468 0.79638795 0.79387722\n",
      " 0.79930364 0.79120451 0.80667384 0.80594492 0.81031845 0.8108044\n",
      " 0.81606883 0.81161431 0.81963245 0.84303892 0.84781741 0.84206703\n",
      " 0.81145233 0.81363909 0.81299116 0.82052335 0.81493495 0.82303408\n",
      " 0.86871315 0.89843695 0.91722692 0.8998138  0.90969474 0.9452499\n",
      " 0.95942337 0.96395889 0.97554064 0.97262495 0.96282501 0.95715562\n",
      " 0.93585492 0.91755089 0.93391113 0.92621695 0.9248401  0.95043334\n",
      " 0.96517375 0.96525475 0.95812751 0.9498664  0.92079054 0.93998547\n",
      " 0.93350617 0.92338226 0.9220864  0.91698395 0.91949468 0.91989964\n",
      " 0.94662675 0.9387706  0.9433871  0.94298215 0.95715562 0.97699848\n",
      " 0.96177212 0.96023329 0.96557871 0.96557871 0.92961859 0.92986156\n",
      " 0.93374914 0.91876576 0.94330611 0.94306314 0.94954244 0.96549772\n",
      " 0.96023329 0.9600713  0.95974734 0.96776548 0.98242489 0.97513568\n",
      " 0.99870414 1.         0.9935207  0.98169597 0.98201994 0.9591804\n",
      " 0.93399212 0.93723177 0.90847987 0.90046173 0.90418733 0.90702202\n",
      " 0.84806038 0.81558288 0.86855117 0.84028522 0.83227277 0.82695502\n",
      " 0.82324213 0.82070053 0.81907862 0.81820798]\n",
      "6 day output [[0.8179517]]\n",
      "7 day input [0.78845081 0.79727886 0.78958468 0.79638795 0.79387722 0.79930364\n",
      " 0.79120451 0.80667384 0.80594492 0.81031845 0.8108044  0.81606883\n",
      " 0.81161431 0.81963245 0.84303892 0.84781741 0.84206703 0.81145233\n",
      " 0.81363909 0.81299116 0.82052335 0.81493495 0.82303408 0.86871315\n",
      " 0.89843695 0.91722692 0.8998138  0.90969474 0.9452499  0.95942337\n",
      " 0.96395889 0.97554064 0.97262495 0.96282501 0.95715562 0.93585492\n",
      " 0.91755089 0.93391113 0.92621695 0.9248401  0.95043334 0.96517375\n",
      " 0.96525475 0.95812751 0.9498664  0.92079054 0.93998547 0.93350617\n",
      " 0.92338226 0.9220864  0.91698395 0.91949468 0.91989964 0.94662675\n",
      " 0.9387706  0.9433871  0.94298215 0.95715562 0.97699848 0.96177212\n",
      " 0.96023329 0.96557871 0.96557871 0.92961859 0.92986156 0.93374914\n",
      " 0.91876576 0.94330611 0.94306314 0.94954244 0.96549772 0.96023329\n",
      " 0.9600713  0.95974734 0.96776548 0.98242489 0.97513568 0.99870414\n",
      " 1.         0.9935207  0.98169597 0.98201994 0.9591804  0.93399212\n",
      " 0.93723177 0.90847987 0.90046173 0.90418733 0.90702202 0.84806038\n",
      " 0.81558288 0.86855117 0.84028522 0.83227277 0.82695502 0.82324213\n",
      " 0.82070053 0.81907862 0.81820798 0.81795168]\n",
      "7 day output [[0.8181833]]\n",
      "8 day input [0.79727886 0.78958468 0.79638795 0.79387722 0.79930364 0.79120451\n",
      " 0.80667384 0.80594492 0.81031845 0.8108044  0.81606883 0.81161431\n",
      " 0.81963245 0.84303892 0.84781741 0.84206703 0.81145233 0.81363909\n",
      " 0.81299116 0.82052335 0.81493495 0.82303408 0.86871315 0.89843695\n",
      " 0.91722692 0.8998138  0.90969474 0.9452499  0.95942337 0.96395889\n",
      " 0.97554064 0.97262495 0.96282501 0.95715562 0.93585492 0.91755089\n",
      " 0.93391113 0.92621695 0.9248401  0.95043334 0.96517375 0.96525475\n",
      " 0.95812751 0.9498664  0.92079054 0.93998547 0.93350617 0.92338226\n",
      " 0.9220864  0.91698395 0.91949468 0.91989964 0.94662675 0.9387706\n",
      " 0.9433871  0.94298215 0.95715562 0.97699848 0.96177212 0.96023329\n",
      " 0.96557871 0.96557871 0.92961859 0.92986156 0.93374914 0.91876576\n",
      " 0.94330611 0.94306314 0.94954244 0.96549772 0.96023329 0.9600713\n",
      " 0.95974734 0.96776548 0.98242489 0.97513568 0.99870414 1.\n",
      " 0.9935207  0.98169597 0.98201994 0.9591804  0.93399212 0.93723177\n",
      " 0.90847987 0.90046173 0.90418733 0.90702202 0.84806038 0.81558288\n",
      " 0.86855117 0.84028522 0.83227277 0.82695502 0.82324213 0.82070053\n",
      " 0.81907862 0.81820798 0.81795168 0.8181833 ]\n",
      "8 day output [[0.81878185]]\n",
      "9 day input [0.78958468 0.79638795 0.79387722 0.79930364 0.79120451 0.80667384\n",
      " 0.80594492 0.81031845 0.8108044  0.81606883 0.81161431 0.81963245\n",
      " 0.84303892 0.84781741 0.84206703 0.81145233 0.81363909 0.81299116\n",
      " 0.82052335 0.81493495 0.82303408 0.86871315 0.89843695 0.91722692\n",
      " 0.8998138  0.90969474 0.9452499  0.95942337 0.96395889 0.97554064\n",
      " 0.97262495 0.96282501 0.95715562 0.93585492 0.91755089 0.93391113\n",
      " 0.92621695 0.9248401  0.95043334 0.96517375 0.96525475 0.95812751\n",
      " 0.9498664  0.92079054 0.93998547 0.93350617 0.92338226 0.9220864\n",
      " 0.91698395 0.91949468 0.91989964 0.94662675 0.9387706  0.9433871\n",
      " 0.94298215 0.95715562 0.97699848 0.96177212 0.96023329 0.96557871\n",
      " 0.96557871 0.92961859 0.92986156 0.93374914 0.91876576 0.94330611\n",
      " 0.94306314 0.94954244 0.96549772 0.96023329 0.9600713  0.95974734\n",
      " 0.96776548 0.98242489 0.97513568 0.99870414 1.         0.9935207\n",
      " 0.98169597 0.98201994 0.9591804  0.93399212 0.93723177 0.90847987\n",
      " 0.90046173 0.90418733 0.90702202 0.84806038 0.81558288 0.86855117\n",
      " 0.84028522 0.83227277 0.82695502 0.82324213 0.82070053 0.81907862\n",
      " 0.81820798 0.81795168 0.8181833  0.81878185]\n",
      "9 day output [[0.8196336]]\n",
      "10 day input [0.79638795 0.79387722 0.79930364 0.79120451 0.80667384 0.80594492\n",
      " 0.81031845 0.8108044  0.81606883 0.81161431 0.81963245 0.84303892\n",
      " 0.84781741 0.84206703 0.81145233 0.81363909 0.81299116 0.82052335\n",
      " 0.81493495 0.82303408 0.86871315 0.89843695 0.91722692 0.8998138\n",
      " 0.90969474 0.9452499  0.95942337 0.96395889 0.97554064 0.97262495\n",
      " 0.96282501 0.95715562 0.93585492 0.91755089 0.93391113 0.92621695\n",
      " 0.9248401  0.95043334 0.96517375 0.96525475 0.95812751 0.9498664\n",
      " 0.92079054 0.93998547 0.93350617 0.92338226 0.9220864  0.91698395\n",
      " 0.91949468 0.91989964 0.94662675 0.9387706  0.9433871  0.94298215\n",
      " 0.95715562 0.97699848 0.96177212 0.96023329 0.96557871 0.96557871\n",
      " 0.92961859 0.92986156 0.93374914 0.91876576 0.94330611 0.94306314\n",
      " 0.94954244 0.96549772 0.96023329 0.9600713  0.95974734 0.96776548\n",
      " 0.98242489 0.97513568 0.99870414 1.         0.9935207  0.98169597\n",
      " 0.98201994 0.9591804  0.93399212 0.93723177 0.90847987 0.90046173\n",
      " 0.90418733 0.90702202 0.84806038 0.81558288 0.86855117 0.84028522\n",
      " 0.83227277 0.82695502 0.82324213 0.82070053 0.81907862 0.81820798\n",
      " 0.81795168 0.8181833  0.81878185 0.8196336 ]\n",
      "10 day output [[0.82063514]]\n",
      "11 day input [0.79387722 0.79930364 0.79120451 0.80667384 0.80594492 0.81031845\n",
      " 0.8108044  0.81606883 0.81161431 0.81963245 0.84303892 0.84781741\n",
      " 0.84206703 0.81145233 0.81363909 0.81299116 0.82052335 0.81493495\n",
      " 0.82303408 0.86871315 0.89843695 0.91722692 0.8998138  0.90969474\n",
      " 0.9452499  0.95942337 0.96395889 0.97554064 0.97262495 0.96282501\n",
      " 0.95715562 0.93585492 0.91755089 0.93391113 0.92621695 0.9248401\n",
      " 0.95043334 0.96517375 0.96525475 0.95812751 0.9498664  0.92079054\n",
      " 0.93998547 0.93350617 0.92338226 0.9220864  0.91698395 0.91949468\n",
      " 0.91989964 0.94662675 0.9387706  0.9433871  0.94298215 0.95715562\n",
      " 0.97699848 0.96177212 0.96023329 0.96557871 0.96557871 0.92961859\n",
      " 0.92986156 0.93374914 0.91876576 0.94330611 0.94306314 0.94954244\n",
      " 0.96549772 0.96023329 0.9600713  0.95974734 0.96776548 0.98242489\n",
      " 0.97513568 0.99870414 1.         0.9935207  0.98169597 0.98201994\n",
      " 0.9591804  0.93399212 0.93723177 0.90847987 0.90046173 0.90418733\n",
      " 0.90702202 0.84806038 0.81558288 0.86855117 0.84028522 0.83227277\n",
      " 0.82695502 0.82324213 0.82070053 0.81907862 0.81820798 0.81795168\n",
      " 0.8181833  0.81878185 0.8196336  0.82063514]\n",
      "11 day output [[0.8216959]]\n",
      "12 day input [0.79930364 0.79120451 0.80667384 0.80594492 0.81031845 0.8108044\n",
      " 0.81606883 0.81161431 0.81963245 0.84303892 0.84781741 0.84206703\n",
      " 0.81145233 0.81363909 0.81299116 0.82052335 0.81493495 0.82303408\n",
      " 0.86871315 0.89843695 0.91722692 0.8998138  0.90969474 0.9452499\n",
      " 0.95942337 0.96395889 0.97554064 0.97262495 0.96282501 0.95715562\n",
      " 0.93585492 0.91755089 0.93391113 0.92621695 0.9248401  0.95043334\n",
      " 0.96517375 0.96525475 0.95812751 0.9498664  0.92079054 0.93998547\n",
      " 0.93350617 0.92338226 0.9220864  0.91698395 0.91949468 0.91989964\n",
      " 0.94662675 0.9387706  0.9433871  0.94298215 0.95715562 0.97699848\n",
      " 0.96177212 0.96023329 0.96557871 0.96557871 0.92961859 0.92986156\n",
      " 0.93374914 0.91876576 0.94330611 0.94306314 0.94954244 0.96549772\n",
      " 0.96023329 0.9600713  0.95974734 0.96776548 0.98242489 0.97513568\n",
      " 0.99870414 1.         0.9935207  0.98169597 0.98201994 0.9591804\n",
      " 0.93399212 0.93723177 0.90847987 0.90046173 0.90418733 0.90702202\n",
      " 0.84806038 0.81558288 0.86855117 0.84028522 0.83227277 0.82695502\n",
      " 0.82324213 0.82070053 0.81907862 0.81820798 0.81795168 0.8181833\n",
      " 0.81878185 0.8196336  0.82063514 0.82169592]\n",
      "12 day output [[0.8227393]]\n",
      "13 day input [0.79120451 0.80667384 0.80594492 0.81031845 0.8108044  0.81606883\n",
      " 0.81161431 0.81963245 0.84303892 0.84781741 0.84206703 0.81145233\n",
      " 0.81363909 0.81299116 0.82052335 0.81493495 0.82303408 0.86871315\n",
      " 0.89843695 0.91722692 0.8998138  0.90969474 0.9452499  0.95942337\n",
      " 0.96395889 0.97554064 0.97262495 0.96282501 0.95715562 0.93585492\n",
      " 0.91755089 0.93391113 0.92621695 0.9248401  0.95043334 0.96517375\n",
      " 0.96525475 0.95812751 0.9498664  0.92079054 0.93998547 0.93350617\n",
      " 0.92338226 0.9220864  0.91698395 0.91949468 0.91989964 0.94662675\n",
      " 0.9387706  0.9433871  0.94298215 0.95715562 0.97699848 0.96177212\n",
      " 0.96023329 0.96557871 0.96557871 0.92961859 0.92986156 0.93374914\n",
      " 0.91876576 0.94330611 0.94306314 0.94954244 0.96549772 0.96023329\n",
      " 0.9600713  0.95974734 0.96776548 0.98242489 0.97513568 0.99870414\n",
      " 1.         0.9935207  0.98169597 0.98201994 0.9591804  0.93399212\n",
      " 0.93723177 0.90847987 0.90046173 0.90418733 0.90702202 0.84806038\n",
      " 0.81558288 0.86855117 0.84028522 0.83227277 0.82695502 0.82324213\n",
      " 0.82070053 0.81907862 0.81820798 0.81795168 0.8181833  0.81878185\n",
      " 0.8196336  0.82063514 0.82169592 0.8227393 ]\n",
      "13 day output [[0.82370317]]\n",
      "14 day input [0.80667384 0.80594492 0.81031845 0.8108044  0.81606883 0.81161431\n",
      " 0.81963245 0.84303892 0.84781741 0.84206703 0.81145233 0.81363909\n",
      " 0.81299116 0.82052335 0.81493495 0.82303408 0.86871315 0.89843695\n",
      " 0.91722692 0.8998138  0.90969474 0.9452499  0.95942337 0.96395889\n",
      " 0.97554064 0.97262495 0.96282501 0.95715562 0.93585492 0.91755089\n",
      " 0.93391113 0.92621695 0.9248401  0.95043334 0.96517375 0.96525475\n",
      " 0.95812751 0.9498664  0.92079054 0.93998547 0.93350617 0.92338226\n",
      " 0.9220864  0.91698395 0.91949468 0.91989964 0.94662675 0.9387706\n",
      " 0.9433871  0.94298215 0.95715562 0.97699848 0.96177212 0.96023329\n",
      " 0.96557871 0.96557871 0.92961859 0.92986156 0.93374914 0.91876576\n",
      " 0.94330611 0.94306314 0.94954244 0.96549772 0.96023329 0.9600713\n",
      " 0.95974734 0.96776548 0.98242489 0.97513568 0.99870414 1.\n",
      " 0.9935207  0.98169597 0.98201994 0.9591804  0.93399212 0.93723177\n",
      " 0.90847987 0.90046173 0.90418733 0.90702202 0.84806038 0.81558288\n",
      " 0.86855117 0.84028522 0.83227277 0.82695502 0.82324213 0.82070053\n",
      " 0.81907862 0.81820798 0.81795168 0.8181833  0.81878185 0.8196336\n",
      " 0.82063514 0.82169592 0.8227393  0.82370317]\n",
      "14 day output [[0.8245392]]\n",
      "15 day input [0.80594492 0.81031845 0.8108044  0.81606883 0.81161431 0.81963245\n",
      " 0.84303892 0.84781741 0.84206703 0.81145233 0.81363909 0.81299116\n",
      " 0.82052335 0.81493495 0.82303408 0.86871315 0.89843695 0.91722692\n",
      " 0.8998138  0.90969474 0.9452499  0.95942337 0.96395889 0.97554064\n",
      " 0.97262495 0.96282501 0.95715562 0.93585492 0.91755089 0.93391113\n",
      " 0.92621695 0.9248401  0.95043334 0.96517375 0.96525475 0.95812751\n",
      " 0.9498664  0.92079054 0.93998547 0.93350617 0.92338226 0.9220864\n",
      " 0.91698395 0.91949468 0.91989964 0.94662675 0.9387706  0.9433871\n",
      " 0.94298215 0.95715562 0.97699848 0.96177212 0.96023329 0.96557871\n",
      " 0.96557871 0.92961859 0.92986156 0.93374914 0.91876576 0.94330611\n",
      " 0.94306314 0.94954244 0.96549772 0.96023329 0.9600713  0.95974734\n",
      " 0.96776548 0.98242489 0.97513568 0.99870414 1.         0.9935207\n",
      " 0.98169597 0.98201994 0.9591804  0.93399212 0.93723177 0.90847987\n",
      " 0.90046173 0.90418733 0.90702202 0.84806038 0.81558288 0.86855117\n",
      " 0.84028522 0.83227277 0.82695502 0.82324213 0.82070053 0.81907862\n",
      " 0.81820798 0.81795168 0.8181833  0.81878185 0.8196336  0.82063514\n",
      " 0.82169592 0.8227393  0.82370317 0.82453918]\n",
      "15 day output [[0.8252124]]\n",
      "16 day input [0.81031845 0.8108044  0.81606883 0.81161431 0.81963245 0.84303892\n",
      " 0.84781741 0.84206703 0.81145233 0.81363909 0.81299116 0.82052335\n",
      " 0.81493495 0.82303408 0.86871315 0.89843695 0.91722692 0.8998138\n",
      " 0.90969474 0.9452499  0.95942337 0.96395889 0.97554064 0.97262495\n",
      " 0.96282501 0.95715562 0.93585492 0.91755089 0.93391113 0.92621695\n",
      " 0.9248401  0.95043334 0.96517375 0.96525475 0.95812751 0.9498664\n",
      " 0.92079054 0.93998547 0.93350617 0.92338226 0.9220864  0.91698395\n",
      " 0.91949468 0.91989964 0.94662675 0.9387706  0.9433871  0.94298215\n",
      " 0.95715562 0.97699848 0.96177212 0.96023329 0.96557871 0.96557871\n",
      " 0.92961859 0.92986156 0.93374914 0.91876576 0.94330611 0.94306314\n",
      " 0.94954244 0.96549772 0.96023329 0.9600713  0.95974734 0.96776548\n",
      " 0.98242489 0.97513568 0.99870414 1.         0.9935207  0.98169597\n",
      " 0.98201994 0.9591804  0.93399212 0.93723177 0.90847987 0.90046173\n",
      " 0.90418733 0.90702202 0.84806038 0.81558288 0.86855117 0.84028522\n",
      " 0.83227277 0.82695502 0.82324213 0.82070053 0.81907862 0.81820798\n",
      " 0.81795168 0.8181833  0.81878185 0.8196336  0.82063514 0.82169592\n",
      " 0.8227393  0.82370317 0.82453918 0.82521242]\n",
      "16 day output [[0.8256999]]\n",
      "17 day input [0.8108044  0.81606883 0.81161431 0.81963245 0.84303892 0.84781741\n",
      " 0.84206703 0.81145233 0.81363909 0.81299116 0.82052335 0.81493495\n",
      " 0.82303408 0.86871315 0.89843695 0.91722692 0.8998138  0.90969474\n",
      " 0.9452499  0.95942337 0.96395889 0.97554064 0.97262495 0.96282501\n",
      " 0.95715562 0.93585492 0.91755089 0.93391113 0.92621695 0.9248401\n",
      " 0.95043334 0.96517375 0.96525475 0.95812751 0.9498664  0.92079054\n",
      " 0.93998547 0.93350617 0.92338226 0.9220864  0.91698395 0.91949468\n",
      " 0.91989964 0.94662675 0.9387706  0.9433871  0.94298215 0.95715562\n",
      " 0.97699848 0.96177212 0.96023329 0.96557871 0.96557871 0.92961859\n",
      " 0.92986156 0.93374914 0.91876576 0.94330611 0.94306314 0.94954244\n",
      " 0.96549772 0.96023329 0.9600713  0.95974734 0.96776548 0.98242489\n",
      " 0.97513568 0.99870414 1.         0.9935207  0.98169597 0.98201994\n",
      " 0.9591804  0.93399212 0.93723177 0.90847987 0.90046173 0.90418733\n",
      " 0.90702202 0.84806038 0.81558288 0.86855117 0.84028522 0.83227277\n",
      " 0.82695502 0.82324213 0.82070053 0.81907862 0.81820798 0.81795168\n",
      " 0.8181833  0.81878185 0.8196336  0.82063514 0.82169592 0.8227393\n",
      " 0.82370317 0.82453918 0.82521242 0.82569993]\n",
      "17 day output [[0.8259902]]\n",
      "18 day input [0.81606883 0.81161431 0.81963245 0.84303892 0.84781741 0.84206703\n",
      " 0.81145233 0.81363909 0.81299116 0.82052335 0.81493495 0.82303408\n",
      " 0.86871315 0.89843695 0.91722692 0.8998138  0.90969474 0.9452499\n",
      " 0.95942337 0.96395889 0.97554064 0.97262495 0.96282501 0.95715562\n",
      " 0.93585492 0.91755089 0.93391113 0.92621695 0.9248401  0.95043334\n",
      " 0.96517375 0.96525475 0.95812751 0.9498664  0.92079054 0.93998547\n",
      " 0.93350617 0.92338226 0.9220864  0.91698395 0.91949468 0.91989964\n",
      " 0.94662675 0.9387706  0.9433871  0.94298215 0.95715562 0.97699848\n",
      " 0.96177212 0.96023329 0.96557871 0.96557871 0.92961859 0.92986156\n",
      " 0.93374914 0.91876576 0.94330611 0.94306314 0.94954244 0.96549772\n",
      " 0.96023329 0.9600713  0.95974734 0.96776548 0.98242489 0.97513568\n",
      " 0.99870414 1.         0.9935207  0.98169597 0.98201994 0.9591804\n",
      " 0.93399212 0.93723177 0.90847987 0.90046173 0.90418733 0.90702202\n",
      " 0.84806038 0.81558288 0.86855117 0.84028522 0.83227277 0.82695502\n",
      " 0.82324213 0.82070053 0.81907862 0.81820798 0.81795168 0.8181833\n",
      " 0.81878185 0.8196336  0.82063514 0.82169592 0.8227393  0.82370317\n",
      " 0.82453918 0.82521242 0.82569993 0.8259902 ]\n",
      "18 day output [[0.8260796]]\n",
      "19 day input [0.81161431 0.81963245 0.84303892 0.84781741 0.84206703 0.81145233\n",
      " 0.81363909 0.81299116 0.82052335 0.81493495 0.82303408 0.86871315\n",
      " 0.89843695 0.91722692 0.8998138  0.90969474 0.9452499  0.95942337\n",
      " 0.96395889 0.97554064 0.97262495 0.96282501 0.95715562 0.93585492\n",
      " 0.91755089 0.93391113 0.92621695 0.9248401  0.95043334 0.96517375\n",
      " 0.96525475 0.95812751 0.9498664  0.92079054 0.93998547 0.93350617\n",
      " 0.92338226 0.9220864  0.91698395 0.91949468 0.91989964 0.94662675\n",
      " 0.9387706  0.9433871  0.94298215 0.95715562 0.97699848 0.96177212\n",
      " 0.96023329 0.96557871 0.96557871 0.92961859 0.92986156 0.93374914\n",
      " 0.91876576 0.94330611 0.94306314 0.94954244 0.96549772 0.96023329\n",
      " 0.9600713  0.95974734 0.96776548 0.98242489 0.97513568 0.99870414\n",
      " 1.         0.9935207  0.98169597 0.98201994 0.9591804  0.93399212\n",
      " 0.93723177 0.90847987 0.90046173 0.90418733 0.90702202 0.84806038\n",
      " 0.81558288 0.86855117 0.84028522 0.83227277 0.82695502 0.82324213\n",
      " 0.82070053 0.81907862 0.81820798 0.81795168 0.8181833  0.81878185\n",
      " 0.8196336  0.82063514 0.82169592 0.8227393  0.82370317 0.82453918\n",
      " 0.82521242 0.82569993 0.8259902  0.82607961]\n",
      "19 day output [[0.82597315]]\n",
      "20 day input [0.81963245 0.84303892 0.84781741 0.84206703 0.81145233 0.81363909\n",
      " 0.81299116 0.82052335 0.81493495 0.82303408 0.86871315 0.89843695\n",
      " 0.91722692 0.8998138  0.90969474 0.9452499  0.95942337 0.96395889\n",
      " 0.97554064 0.97262495 0.96282501 0.95715562 0.93585492 0.91755089\n",
      " 0.93391113 0.92621695 0.9248401  0.95043334 0.96517375 0.96525475\n",
      " 0.95812751 0.9498664  0.92079054 0.93998547 0.93350617 0.92338226\n",
      " 0.9220864  0.91698395 0.91949468 0.91989964 0.94662675 0.9387706\n",
      " 0.9433871  0.94298215 0.95715562 0.97699848 0.96177212 0.96023329\n",
      " 0.96557871 0.96557871 0.92961859 0.92986156 0.93374914 0.91876576\n",
      " 0.94330611 0.94306314 0.94954244 0.96549772 0.96023329 0.9600713\n",
      " 0.95974734 0.96776548 0.98242489 0.97513568 0.99870414 1.\n",
      " 0.9935207  0.98169597 0.98201994 0.9591804  0.93399212 0.93723177\n",
      " 0.90847987 0.90046173 0.90418733 0.90702202 0.84806038 0.81558288\n",
      " 0.86855117 0.84028522 0.83227277 0.82695502 0.82324213 0.82070053\n",
      " 0.81907862 0.81820798 0.81795168 0.8181833  0.81878185 0.8196336\n",
      " 0.82063514 0.82169592 0.8227393  0.82370317 0.82453918 0.82521242\n",
      " 0.82569993 0.8259902  0.82607961 0.82597315]\n",
      "20 day output [[0.8256819]]\n",
      "21 day input [0.84303892 0.84781741 0.84206703 0.81145233 0.81363909 0.81299116\n",
      " 0.82052335 0.81493495 0.82303408 0.86871315 0.89843695 0.91722692\n",
      " 0.8998138  0.90969474 0.9452499  0.95942337 0.96395889 0.97554064\n",
      " 0.97262495 0.96282501 0.95715562 0.93585492 0.91755089 0.93391113\n",
      " 0.92621695 0.9248401  0.95043334 0.96517375 0.96525475 0.95812751\n",
      " 0.9498664  0.92079054 0.93998547 0.93350617 0.92338226 0.9220864\n",
      " 0.91698395 0.91949468 0.91989964 0.94662675 0.9387706  0.9433871\n",
      " 0.94298215 0.95715562 0.97699848 0.96177212 0.96023329 0.96557871\n",
      " 0.96557871 0.92961859 0.92986156 0.93374914 0.91876576 0.94330611\n",
      " 0.94306314 0.94954244 0.96549772 0.96023329 0.9600713  0.95974734\n",
      " 0.96776548 0.98242489 0.97513568 0.99870414 1.         0.9935207\n",
      " 0.98169597 0.98201994 0.9591804  0.93399212 0.93723177 0.90847987\n",
      " 0.90046173 0.90418733 0.90702202 0.84806038 0.81558288 0.86855117\n",
      " 0.84028522 0.83227277 0.82695502 0.82324213 0.82070053 0.81907862\n",
      " 0.81820798 0.81795168 0.8181833  0.81878185 0.8196336  0.82063514\n",
      " 0.82169592 0.8227393  0.82370317 0.82453918 0.82521242 0.82569993\n",
      " 0.8259902  0.82607961 0.82597315 0.82568192]\n",
      "21 day output [[0.8252218]]\n",
      "22 day input [0.84781741 0.84206703 0.81145233 0.81363909 0.81299116 0.82052335\n",
      " 0.81493495 0.82303408 0.86871315 0.89843695 0.91722692 0.8998138\n",
      " 0.90969474 0.9452499  0.95942337 0.96395889 0.97554064 0.97262495\n",
      " 0.96282501 0.95715562 0.93585492 0.91755089 0.93391113 0.92621695\n",
      " 0.9248401  0.95043334 0.96517375 0.96525475 0.95812751 0.9498664\n",
      " 0.92079054 0.93998547 0.93350617 0.92338226 0.9220864  0.91698395\n",
      " 0.91949468 0.91989964 0.94662675 0.9387706  0.9433871  0.94298215\n",
      " 0.95715562 0.97699848 0.96177212 0.96023329 0.96557871 0.96557871\n",
      " 0.92961859 0.92986156 0.93374914 0.91876576 0.94330611 0.94306314\n",
      " 0.94954244 0.96549772 0.96023329 0.9600713  0.95974734 0.96776548\n",
      " 0.98242489 0.97513568 0.99870414 1.         0.9935207  0.98169597\n",
      " 0.98201994 0.9591804  0.93399212 0.93723177 0.90847987 0.90046173\n",
      " 0.90418733 0.90702202 0.84806038 0.81558288 0.86855117 0.84028522\n",
      " 0.83227277 0.82695502 0.82324213 0.82070053 0.81907862 0.81820798\n",
      " 0.81795168 0.8181833  0.81878185 0.8196336  0.82063514 0.82169592\n",
      " 0.8227393  0.82370317 0.82453918 0.82521242 0.82569993 0.8259902\n",
      " 0.82607961 0.82597315 0.82568192 0.82522178]\n",
      "22 day output [[0.8246119]]\n",
      "23 day input [0.84206703 0.81145233 0.81363909 0.81299116 0.82052335 0.81493495\n",
      " 0.82303408 0.86871315 0.89843695 0.91722692 0.8998138  0.90969474\n",
      " 0.9452499  0.95942337 0.96395889 0.97554064 0.97262495 0.96282501\n",
      " 0.95715562 0.93585492 0.91755089 0.93391113 0.92621695 0.9248401\n",
      " 0.95043334 0.96517375 0.96525475 0.95812751 0.9498664  0.92079054\n",
      " 0.93998547 0.93350617 0.92338226 0.9220864  0.91698395 0.91949468\n",
      " 0.91989964 0.94662675 0.9387706  0.9433871  0.94298215 0.95715562\n",
      " 0.97699848 0.96177212 0.96023329 0.96557871 0.96557871 0.92961859\n",
      " 0.92986156 0.93374914 0.91876576 0.94330611 0.94306314 0.94954244\n",
      " 0.96549772 0.96023329 0.9600713  0.95974734 0.96776548 0.98242489\n",
      " 0.97513568 0.99870414 1.         0.9935207  0.98169597 0.98201994\n",
      " 0.9591804  0.93399212 0.93723177 0.90847987 0.90046173 0.90418733\n",
      " 0.90702202 0.84806038 0.81558288 0.86855117 0.84028522 0.83227277\n",
      " 0.82695502 0.82324213 0.82070053 0.81907862 0.81820798 0.81795168\n",
      " 0.8181833  0.81878185 0.8196336  0.82063514 0.82169592 0.8227393\n",
      " 0.82370317 0.82453918 0.82521242 0.82569993 0.8259902  0.82607961\n",
      " 0.82597315 0.82568192 0.82522178 0.8246119 ]\n",
      "23 day output [[0.8238733]]\n",
      "24 day input [0.81145233 0.81363909 0.81299116 0.82052335 0.81493495 0.82303408\n",
      " 0.86871315 0.89843695 0.91722692 0.8998138  0.90969474 0.9452499\n",
      " 0.95942337 0.96395889 0.97554064 0.97262495 0.96282501 0.95715562\n",
      " 0.93585492 0.91755089 0.93391113 0.92621695 0.9248401  0.95043334\n",
      " 0.96517375 0.96525475 0.95812751 0.9498664  0.92079054 0.93998547\n",
      " 0.93350617 0.92338226 0.9220864  0.91698395 0.91949468 0.91989964\n",
      " 0.94662675 0.9387706  0.9433871  0.94298215 0.95715562 0.97699848\n",
      " 0.96177212 0.96023329 0.96557871 0.96557871 0.92961859 0.92986156\n",
      " 0.93374914 0.91876576 0.94330611 0.94306314 0.94954244 0.96549772\n",
      " 0.96023329 0.9600713  0.95974734 0.96776548 0.98242489 0.97513568\n",
      " 0.99870414 1.         0.9935207  0.98169597 0.98201994 0.9591804\n",
      " 0.93399212 0.93723177 0.90847987 0.90046173 0.90418733 0.90702202\n",
      " 0.84806038 0.81558288 0.86855117 0.84028522 0.83227277 0.82695502\n",
      " 0.82324213 0.82070053 0.81907862 0.81820798 0.81795168 0.8181833\n",
      " 0.81878185 0.8196336  0.82063514 0.82169592 0.8227393  0.82370317\n",
      " 0.82453918 0.82521242 0.82569993 0.8259902  0.82607961 0.82597315\n",
      " 0.82568192 0.82522178 0.8246119  0.82387328]\n",
      "24 day output [[0.8230283]]\n",
      "25 day input [0.81363909 0.81299116 0.82052335 0.81493495 0.82303408 0.86871315\n",
      " 0.89843695 0.91722692 0.8998138  0.90969474 0.9452499  0.95942337\n",
      " 0.96395889 0.97554064 0.97262495 0.96282501 0.95715562 0.93585492\n",
      " 0.91755089 0.93391113 0.92621695 0.9248401  0.95043334 0.96517375\n",
      " 0.96525475 0.95812751 0.9498664  0.92079054 0.93998547 0.93350617\n",
      " 0.92338226 0.9220864  0.91698395 0.91949468 0.91989964 0.94662675\n",
      " 0.9387706  0.9433871  0.94298215 0.95715562 0.97699848 0.96177212\n",
      " 0.96023329 0.96557871 0.96557871 0.92961859 0.92986156 0.93374914\n",
      " 0.91876576 0.94330611 0.94306314 0.94954244 0.96549772 0.96023329\n",
      " 0.9600713  0.95974734 0.96776548 0.98242489 0.97513568 0.99870414\n",
      " 1.         0.9935207  0.98169597 0.98201994 0.9591804  0.93399212\n",
      " 0.93723177 0.90847987 0.90046173 0.90418733 0.90702202 0.84806038\n",
      " 0.81558288 0.86855117 0.84028522 0.83227277 0.82695502 0.82324213\n",
      " 0.82070053 0.81907862 0.81820798 0.81795168 0.8181833  0.81878185\n",
      " 0.8196336  0.82063514 0.82169592 0.8227393  0.82370317 0.82453918\n",
      " 0.82521242 0.82569993 0.8259902  0.82607961 0.82597315 0.82568192\n",
      " 0.82522178 0.8246119  0.82387328 0.82302833]\n",
      "25 day output [[0.8221]]\n",
      "26 day input [0.81299116 0.82052335 0.81493495 0.82303408 0.86871315 0.89843695\n",
      " 0.91722692 0.8998138  0.90969474 0.9452499  0.95942337 0.96395889\n",
      " 0.97554064 0.97262495 0.96282501 0.95715562 0.93585492 0.91755089\n",
      " 0.93391113 0.92621695 0.9248401  0.95043334 0.96517375 0.96525475\n",
      " 0.95812751 0.9498664  0.92079054 0.93998547 0.93350617 0.92338226\n",
      " 0.9220864  0.91698395 0.91949468 0.91989964 0.94662675 0.9387706\n",
      " 0.9433871  0.94298215 0.95715562 0.97699848 0.96177212 0.96023329\n",
      " 0.96557871 0.96557871 0.92961859 0.92986156 0.93374914 0.91876576\n",
      " 0.94330611 0.94306314 0.94954244 0.96549772 0.96023329 0.9600713\n",
      " 0.95974734 0.96776548 0.98242489 0.97513568 0.99870414 1.\n",
      " 0.9935207  0.98169597 0.98201994 0.9591804  0.93399212 0.93723177\n",
      " 0.90847987 0.90046173 0.90418733 0.90702202 0.84806038 0.81558288\n",
      " 0.86855117 0.84028522 0.83227277 0.82695502 0.82324213 0.82070053\n",
      " 0.81907862 0.81820798 0.81795168 0.8181833  0.81878185 0.8196336\n",
      " 0.82063514 0.82169592 0.8227393  0.82370317 0.82453918 0.82521242\n",
      " 0.82569993 0.8259902  0.82607961 0.82597315 0.82568192 0.82522178\n",
      " 0.8246119  0.82387328 0.82302833 0.82209998]\n",
      "26 day output [[0.8211101]]\n",
      "27 day input [0.82052335 0.81493495 0.82303408 0.86871315 0.89843695 0.91722692\n",
      " 0.8998138  0.90969474 0.9452499  0.95942337 0.96395889 0.97554064\n",
      " 0.97262495 0.96282501 0.95715562 0.93585492 0.91755089 0.93391113\n",
      " 0.92621695 0.9248401  0.95043334 0.96517375 0.96525475 0.95812751\n",
      " 0.9498664  0.92079054 0.93998547 0.93350617 0.92338226 0.9220864\n",
      " 0.91698395 0.91949468 0.91989964 0.94662675 0.9387706  0.9433871\n",
      " 0.94298215 0.95715562 0.97699848 0.96177212 0.96023329 0.96557871\n",
      " 0.96557871 0.92961859 0.92986156 0.93374914 0.91876576 0.94330611\n",
      " 0.94306314 0.94954244 0.96549772 0.96023329 0.9600713  0.95974734\n",
      " 0.96776548 0.98242489 0.97513568 0.99870414 1.         0.9935207\n",
      " 0.98169597 0.98201994 0.9591804  0.93399212 0.93723177 0.90847987\n",
      " 0.90046173 0.90418733 0.90702202 0.84806038 0.81558288 0.86855117\n",
      " 0.84028522 0.83227277 0.82695502 0.82324213 0.82070053 0.81907862\n",
      " 0.81820798 0.81795168 0.8181833  0.81878185 0.8196336  0.82063514\n",
      " 0.82169592 0.8227393  0.82370317 0.82453918 0.82521242 0.82569993\n",
      " 0.8259902  0.82607961 0.82597315 0.82568192 0.82522178 0.8246119\n",
      " 0.82387328 0.82302833 0.82209998 0.82111013]\n",
      "27 day output [[0.8200791]]\n",
      "28 day input [0.81493495 0.82303408 0.86871315 0.89843695 0.91722692 0.8998138\n",
      " 0.90969474 0.9452499  0.95942337 0.96395889 0.97554064 0.97262495\n",
      " 0.96282501 0.95715562 0.93585492 0.91755089 0.93391113 0.92621695\n",
      " 0.9248401  0.95043334 0.96517375 0.96525475 0.95812751 0.9498664\n",
      " 0.92079054 0.93998547 0.93350617 0.92338226 0.9220864  0.91698395\n",
      " 0.91949468 0.91989964 0.94662675 0.9387706  0.9433871  0.94298215\n",
      " 0.95715562 0.97699848 0.96177212 0.96023329 0.96557871 0.96557871\n",
      " 0.92961859 0.92986156 0.93374914 0.91876576 0.94330611 0.94306314\n",
      " 0.94954244 0.96549772 0.96023329 0.9600713  0.95974734 0.96776548\n",
      " 0.98242489 0.97513568 0.99870414 1.         0.9935207  0.98169597\n",
      " 0.98201994 0.9591804  0.93399212 0.93723177 0.90847987 0.90046173\n",
      " 0.90418733 0.90702202 0.84806038 0.81558288 0.86855117 0.84028522\n",
      " 0.83227277 0.82695502 0.82324213 0.82070053 0.81907862 0.81820798\n",
      " 0.81795168 0.8181833  0.81878185 0.8196336  0.82063514 0.82169592\n",
      " 0.8227393  0.82370317 0.82453918 0.82521242 0.82569993 0.8259902\n",
      " 0.82607961 0.82597315 0.82568192 0.82522178 0.8246119  0.82387328\n",
      " 0.82302833 0.82209998 0.82111013 0.82007909]\n",
      "28 day output [[0.81902635]]\n",
      "29 day input [0.82303408 0.86871315 0.89843695 0.91722692 0.8998138  0.90969474\n",
      " 0.9452499  0.95942337 0.96395889 0.97554064 0.97262495 0.96282501\n",
      " 0.95715562 0.93585492 0.91755089 0.93391113 0.92621695 0.9248401\n",
      " 0.95043334 0.96517375 0.96525475 0.95812751 0.9498664  0.92079054\n",
      " 0.93998547 0.93350617 0.92338226 0.9220864  0.91698395 0.91949468\n",
      " 0.91989964 0.94662675 0.9387706  0.9433871  0.94298215 0.95715562\n",
      " 0.97699848 0.96177212 0.96023329 0.96557871 0.96557871 0.92961859\n",
      " 0.92986156 0.93374914 0.91876576 0.94330611 0.94306314 0.94954244\n",
      " 0.96549772 0.96023329 0.9600713  0.95974734 0.96776548 0.98242489\n",
      " 0.97513568 0.99870414 1.         0.9935207  0.98169597 0.98201994\n",
      " 0.9591804  0.93399212 0.93723177 0.90847987 0.90046173 0.90418733\n",
      " 0.90702202 0.84806038 0.81558288 0.86855117 0.84028522 0.83227277\n",
      " 0.82695502 0.82324213 0.82070053 0.81907862 0.81820798 0.81795168\n",
      " 0.8181833  0.81878185 0.8196336  0.82063514 0.82169592 0.8227393\n",
      " 0.82370317 0.82453918 0.82521242 0.82569993 0.8259902  0.82607961\n",
      " 0.82597315 0.82568192 0.82522178 0.8246119  0.82387328 0.82302833\n",
      " 0.82209998 0.82111013 0.82007909 0.81902635]\n",
      "29 day output [[0.81796867]]\n",
      "[[0.8322727680206299], [0.8269550204277039], [0.8232421278953552], [0.8207005262374878], [0.8190786242485046], [0.8182079792022705], [0.8179516792297363], [0.8181833028793335], [0.818781852722168], [0.8196336030960083], [0.8206351399421692], [0.8216959238052368], [0.82273930311203], [0.8237031698226929], [0.8245391845703125], [0.8252124190330505], [0.8256999254226685], [0.8259902000427246], [0.8260796070098877], [0.8259731531143188], [0.8256819248199463], [0.8252217769622803], [0.8246119022369385], [0.8238732814788818], [0.8230283260345459], [0.8220999836921692], [0.8211101293563843], [0.8200790882110596], [0.8190263509750366], [0.8179686665534973]]\n"
     ]
    }
   ],
   "source": [
    "from numpy import array\n",
    "\n",
    "lst_output=[]\n",
    "n_steps=100\n",
    "i=0\n",
    "while(i<30):\n",
    "    \n",
    "    if(len(temp_input)>100):\n",
    "    \n",
    "        x_input=np.array(temp_input[1:])\n",
    "        print(\"{} day input {}\".format(i,x_input))\n",
    "        x_input=x_input.reshape(1,-1)\n",
    "        x_input = x_input.reshape((1, n_steps, 1))\n",
    "        yhat = model.predict(x_input, verbose=0)\n",
    "        print(\"{} day output {}\".format(i,yhat))\n",
    "        temp_input.extend(yhat[0].tolist())\n",
    "        temp_input=temp_input[1:]\n",
    "        lst_output.extend(yhat.tolist())\n",
    "        i=i+1\n",
    "    else:\n",
    "        x_input = x_input.reshape((1, n_steps,1))\n",
    "        yhat = model.predict(x_input, verbose=0)\n",
    "        print(yhat[0])\n",
    "        temp_input.extend(yhat[0].tolist())\n",
    "        print(len(temp_input))\n",
    "        lst_output.extend(yhat.tolist())\n",
    "        i=i+1\n",
    "    \n",
    "\n",
    "print(lst_output)"
   ]
  },
  {
   "cell_type": "code",
   "execution_count": 54,
   "id": "32d5b15c",
   "metadata": {},
   "outputs": [],
   "source": [
    "new_day = np.arange(1,101)\n",
    "pred_day = np.arange(101,131)\n"
   ]
  },
  {
   "cell_type": "code",
   "execution_count": 56,
   "id": "c8d3be33",
   "metadata": {},
   "outputs": [],
   "source": [
    "import matplotlib.pyplot as plt"
   ]
  },
  {
   "cell_type": "code",
   "execution_count": 57,
   "id": "6b58a6f2",
   "metadata": {},
   "outputs": [
    {
     "data": {
      "text/plain": [
       "1259"
      ]
     },
     "execution_count": 57,
     "metadata": {},
     "output_type": "execute_result"
    }
   ],
   "source": [
    "len(df2)"
   ]
  },
  {
   "cell_type": "code",
   "execution_count": 58,
   "id": "96998627",
   "metadata": {},
   "outputs": [],
   "source": [
    "df3 = df2.tolist()"
   ]
  },
  {
   "cell_type": "code",
   "execution_count": 59,
   "id": "41876266",
   "metadata": {},
   "outputs": [],
   "source": [
    "df3.extend(lst_output)"
   ]
  },
  {
   "cell_type": "code",
   "execution_count": 60,
   "id": "c8223f07",
   "metadata": {
    "scrolled": true
   },
   "outputs": [
    {
     "data": {
      "text/plain": [
       "[<matplotlib.lines.Line2D at 0x1fc82563e80>]"
      ]
     },
     "execution_count": 60,
     "metadata": {},
     "output_type": "execute_result"
    },
    {
     "data": {
      "image/png": "[encoded data removed]",
      "text/plain": [
       "<Figure size 432x288 with 1 Axes>"
      ]
     },
     "metadata": {
      "needs_background": "light"
     },
     "output_type": "display_data"
    }
   ],
   "source": [
    "plt.plot(new_day,scaler.inverse_transform(df2[1159:]))\n",
    "plt.plot(pred_day,scaler.inverse_transform(lst_output))"
   ]
  },
  {
   "cell_type": "code",
   "execution_count": 61,
   "id": "e8999bbc",
   "metadata": {},
   "outputs": [
    {
     "data": {
      "text/plain": [
       "[<matplotlib.lines.Line2D at 0x1fc82519e80>]"
      ]
     },
     "execution_count": 61,
     "metadata": {},
     "output_type": "execute_result"
    },
    {
     "data": {
      "image/png": "[encoded data removed]",
      "text/plain": [
       "<Figure size 432x288 with 1 Axes>"
      ]
     },
     "metadata": {
      "needs_background": "light"
     },
     "output_type": "display_data"
    }
   ],
   "source": [
    "df3=df2.tolist()\n",
    "df3.extend(lst_output)\n",
    "plt.plot(df3[1200:])"
   ]
  },
  {
   "cell_type": "code",
   "execution_count": null,
   "id": "43c02ada",
   "metadata": {},
   "outputs": [],
   "source": []
  }
 ],
 "metadata": {
  "kernelspec": {
   "display_name": "Python 3",
   "language": "python",
   "name": "python3"
  },
  "language_info": {
   "codemirror_mode": {
    "name": "ipython",
    "version": 3
   },
   "file_extension": ".py",
   "mimetype": "text/x-python",
   "name": "python",
   "nbconvert_exporter": "python",
   "pygments_lexer": "ipython3",
   "version": "3.8.8"
  }
 },
 "nbformat": 4,
 "nbformat_minor": 5
}
